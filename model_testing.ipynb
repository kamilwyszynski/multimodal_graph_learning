{
 "metadata": {
  "language_info": {
   "codemirror_mode": {
    "name": "ipython",
    "version": 3
   },
   "file_extension": ".py",
   "mimetype": "text/x-python",
   "name": "python",
   "nbconvert_exporter": "python",
   "pygments_lexer": "ipython3",
   "version": "3.6.5-final"
  },
  "orig_nbformat": 2,
  "kernelspec": {
   "name": "python3",
   "display_name": "Python 3.6.5 64-bit ('venv': venv)",
   "metadata": {
    "interpreter": {
     "hash": "e11b1e8ba25ff61b465d58786120e6e5d3b8da78962387496e65d04c0b6306d4"
    }
   }
  }
 },
 "nbformat": 4,
 "nbformat_minor": 2,
 "cells": [
  {
   "cell_type": "code",
   "execution_count": 43,
   "metadata": {},
   "outputs": [],
   "source": [
    "import pickle\n",
    "\n",
    "import json\n",
    "import pandas as pd\n",
    "import numpy as np\n",
    "from sklearn import preprocessing, feature_extraction, model_selection\n",
    "from sklearn.metrics import mean_absolute_error, mean_squared_error\n",
    "from sklearn.model_selection import train_test_split\n",
    "\n",
    "import stellargraph as sg\n",
    "from stellargraph.mapper import HinSAGELinkGenerator\n",
    "from stellargraph.layer import HinSAGE, link_regression\n",
    "from stellargraph.data import EdgeSplitter\n",
    "from tensorflow.keras import Model, optimizers, losses, metrics\n",
    "from het_data import HetGraph\n",
    "\n",
    "import multiprocessing\n",
    "from stellargraph import datasets\n",
    "from IPython.display import display, HTML\n",
    "import matplotlib.pyplot as plt\n",
    "%matplotlib inline"
   ]
  },
  {
   "cell_type": "code",
   "execution_count": 2,
   "metadata": {},
   "outputs": [],
   "source": [
    "# load graph\n",
    "hg = pickle.load(open('res/graphs/50_img_non_pyg.hg', 'rb'))\n",
    "data = hg.get_stellar_graph()"
   ]
  },
  {
   "cell_type": "code",
   "execution_count": 3,
   "metadata": {},
   "outputs": [
    {
     "output_type": "stream",
     "name": "stdout",
     "text": [
      "StellarGraph: Undirected multigraph\n Nodes: 213, Edges: 14702\n\n Node types:\n  word: [163]\n    Features: float32 vector, length 300\n    Edge types: word-image2word->image, word-word2word->word\n  image: [50]\n    Features: float32 vector, length 512\n    Edge types: image-image2image->image, image-image2word->word\n\n Edge types:\n    word-word2word->word: [13203]\n        Weights: range=[-0.289893, 0.813978], mean=0.128848, std=0.131232\n        Features: none\n    image-image2image->image: [1225]\n        Weights: range=[0.185038, 0.78686], mean=0.554056, std=0.106663\n        Features: none\n    image-image2word->word: [274]\n        Weights: all 1 (default)\n        Features: none\n"
     ]
    }
   ],
   "source": [
    "print(data.info())"
   ]
  },
  {
   "cell_type": "code",
   "execution_count": 88,
   "metadata": {},
   "outputs": [],
   "source": [
    "batch_size = 20\n",
    "epochs = 10\n",
    "# Use 70% of edges for training, the rest for testing:\n",
    "train_size = 0.7\n",
    "test_size = 0.3"
   ]
  },
  {
   "cell_type": "code",
   "execution_count": 9,
   "metadata": {},
   "outputs": [
    {
     "output_type": "execute_result",
     "data": {
      "text/plain": [
       "list"
      ]
     },
     "metadata": {},
     "execution_count": 9
    }
   ],
   "source": [
    "type(data.edges())"
   ]
  },
  {
   "source": [
    "### Getting the list of all positive image to word edges in a dataframe\n",
    "\n",
    "This is not needed anymore"
   ],
   "cell_type": "markdown",
   "metadata": {}
  },
  {
   "cell_type": "code",
   "execution_count": 37,
   "metadata": {},
   "outputs": [
    {
     "output_type": "execute_result",
     "data": {
      "text/plain": [
       "                         image       word\n",
       "0    VizWiz_train_00000001.jpg      green\n",
       "1    VizWiz_train_00000001.jpg      white\n",
       "2    VizWiz_train_00000001.jpg    plastic\n",
       "3    VizWiz_train_00000001.jpg  condiment\n",
       "4    VizWiz_train_00000001.jpg     bottle\n",
       "..                         ...        ...\n",
       "269  VizWiz_train_00000051.jpg      white\n",
       "270  VizWiz_train_00000051.jpg    samsung\n",
       "271  VizWiz_train_00000051.jpg       cell\n",
       "272  VizWiz_train_00000051.jpg      phone\n",
       "273  VizWiz_train_00000051.jpg       case\n",
       "\n",
       "[274 rows x 2 columns]"
      ],
      "text/html": "<div>\n<style scoped>\n    .dataframe tbody tr th:only-of-type {\n        vertical-align: middle;\n    }\n\n    .dataframe tbody tr th {\n        vertical-align: top;\n    }\n\n    .dataframe thead th {\n        text-align: right;\n    }\n</style>\n<table border=\"1\" class=\"dataframe\">\n  <thead>\n    <tr style=\"text-align: right;\">\n      <th></th>\n      <th>image</th>\n      <th>word</th>\n    </tr>\n  </thead>\n  <tbody>\n    <tr>\n      <th>0</th>\n      <td>VizWiz_train_00000001.jpg</td>\n      <td>green</td>\n    </tr>\n    <tr>\n      <th>1</th>\n      <td>VizWiz_train_00000001.jpg</td>\n      <td>white</td>\n    </tr>\n    <tr>\n      <th>2</th>\n      <td>VizWiz_train_00000001.jpg</td>\n      <td>plastic</td>\n    </tr>\n    <tr>\n      <th>3</th>\n      <td>VizWiz_train_00000001.jpg</td>\n      <td>condiment</td>\n    </tr>\n    <tr>\n      <th>4</th>\n      <td>VizWiz_train_00000001.jpg</td>\n      <td>bottle</td>\n    </tr>\n    <tr>\n      <th>...</th>\n      <td>...</td>\n      <td>...</td>\n    </tr>\n    <tr>\n      <th>269</th>\n      <td>VizWiz_train_00000051.jpg</td>\n      <td>white</td>\n    </tr>\n    <tr>\n      <th>270</th>\n      <td>VizWiz_train_00000051.jpg</td>\n      <td>samsung</td>\n    </tr>\n    <tr>\n      <th>271</th>\n      <td>VizWiz_train_00000051.jpg</td>\n      <td>cell</td>\n    </tr>\n    <tr>\n      <th>272</th>\n      <td>VizWiz_train_00000051.jpg</td>\n      <td>phone</td>\n    </tr>\n    <tr>\n      <th>273</th>\n      <td>VizWiz_train_00000051.jpg</td>\n      <td>case</td>\n    </tr>\n  </tbody>\n</table>\n<p>274 rows × 2 columns</p>\n</div>"
     },
     "metadata": {},
     "execution_count": 37
    }
   ],
   "source": [
    "edges = data.edges(include_edge_type=True, include_edge_weight=False)\n",
    "edges = pd.DataFrame(edges, columns=['image', 'word', 'type'])\n",
    "edges = edges[edges.type == 'image2word'].reset_index()[['image', 'word']]\n",
    "edges"
   ]
  },
  {
   "source": [
    "### Trying to split the data using an example from a GCN binary link prediction\n",
    "\n",
    "https://stellargraph.readthedocs.io/en/stable/demos/link-prediction/gcn-link-prediction.html\n",
    "\n",
    "This seems to be the correct splitting"
   ],
   "cell_type": "markdown",
   "metadata": {}
  },
  {
   "cell_type": "code",
   "execution_count": 83,
   "metadata": {},
   "outputs": [
    {
     "output_type": "stream",
     "name": "stdout",
     "text": [
      "Network has 274 edges of type image2word\nNetwork has 274 edges of type image2word\n** Sampled 27 positive and 27 negative edges. **\nStellarGraph: Undirected multigraph\n Nodes: 213, Edges: 14675\n\n Node types:\n  word: [163]\n    Features: float32 vector, length 300\n    Edge types: word-image2word->image, word-word2word->word\n  image: [50]\n    Features: float32 vector, length 512\n    Edge types: image-image2image->image, image-image2word->word\n\n Edge types:\n    word-word2word->word: [13203]\n        Weights: range=[-0.289893, 0.813978], mean=0.128848, std=0.131232\n        Features: none\n    image-image2image->image: [1225]\n        Weights: range=[0.185038, 0.78686], mean=0.554056, std=0.106663\n        Features: none\n    image-image2word->word: [247]\n        Weights: all 1 (default)\n        Features: none\n"
     ]
    }
   ],
   "source": [
    "edge_splitter_test = EdgeSplitter(data)\n",
    "\n",
    "# Randomly sample a fraction p=0.1 of all positive links, and same number of negative links, from graph, and obtain the\n",
    "# reduced graph graph_test with the sampled links removed:\n",
    "graph_test, edges_test, labels_test = edge_splitter_test.train_test_split(\n",
    "    p=0.1, method=\"global\", edge_label='image2word'\n",
    ")\n",
    "\n",
    "print(graph_test.info())"
   ]
  },
  {
   "cell_type": "code",
   "execution_count": 86,
   "metadata": {},
   "outputs": [
    {
     "output_type": "stream",
     "name": "stdout",
     "text": [
      "Network has 247 edges of type image2word\nNetwork has 247 edges of type image2word\n** Sampled 24 positive and 24 negative edges. **\nStellarGraph: Undirected multigraph\n Nodes: 213, Edges: 14651\n\n Node types:\n  word: [163]\n    Features: float32 vector, length 300\n    Edge types: word-image2word->image, word-word2word->word\n  image: [50]\n    Features: float32 vector, length 512\n    Edge types: image-image2image->image, image-image2word->word\n\n Edge types:\n    word-word2word->word: [13203]\n        Weights: range=[-0.289893, 0.813978], mean=0.128848, std=0.131232\n        Features: none\n    image-image2image->image: [1225]\n        Weights: range=[0.185038, 0.78686], mean=0.554056, std=0.106663\n        Features: none\n    image-image2word->word: [223]\n        Weights: all 1 (default)\n        Features: none\n"
     ]
    }
   ],
   "source": [
    "# Do the same process to compute a training subset from within the test graph\n",
    "edge_splitter_train = EdgeSplitter(graph_test, data)\n",
    "graph, edges, labels = edge_splitter_train.train_test_split(\n",
    "    p=0.1, method=\"global\", edge_label='image2word'\n",
    ")\n",
    "\n",
    "\n",
    "# probably don't need this step as we're already using this model\n",
    "(\n",
    "    edges_train,\n",
    "    edges_model_selection,\n",
    "    labels_train,\n",
    "    labels_model_selection,\n",
    ") = train_test_split(edges, labels, train_size=0.75, test_size=0.25)\n",
    "\n",
    "print(graph_train.info())"
   ]
  },
  {
   "cell_type": "code",
   "execution_count": 85,
   "metadata": {},
   "outputs": [
    {
     "output_type": "execute_result",
     "data": {
      "text/plain": [
       "                 Number of Examples  Hidden from Picked from  \\\n",
       "Split                                                          \n",
       "Training Set                     36  Train Graph  Test Graph   \n",
       "Model Selection                  12  Train Graph  Test Graph   \n",
       "Test set                         54   Test Graph  Full Graph   \n",
       "\n",
       "                                                   Use  \n",
       "Split                                                   \n",
       "Training Set                 Train the Link Classifier  \n",
       "Model Selection  Select the best Link Classifier model  \n",
       "Test set             Evaluate the best Link Classifier  "
      ],
      "text/html": "<div>\n<style scoped>\n    .dataframe tbody tr th:only-of-type {\n        vertical-align: middle;\n    }\n\n    .dataframe tbody tr th {\n        vertical-align: top;\n    }\n\n    .dataframe thead th {\n        text-align: right;\n    }\n</style>\n<table border=\"1\" class=\"dataframe\">\n  <thead>\n    <tr style=\"text-align: right;\">\n      <th></th>\n      <th>Number of Examples</th>\n      <th>Hidden from</th>\n      <th>Picked from</th>\n      <th>Use</th>\n    </tr>\n    <tr>\n      <th>Split</th>\n      <th></th>\n      <th></th>\n      <th></th>\n      <th></th>\n    </tr>\n  </thead>\n  <tbody>\n    <tr>\n      <th>Training Set</th>\n      <td>36</td>\n      <td>Train Graph</td>\n      <td>Test Graph</td>\n      <td>Train the Link Classifier</td>\n    </tr>\n    <tr>\n      <th>Model Selection</th>\n      <td>12</td>\n      <td>Train Graph</td>\n      <td>Test Graph</td>\n      <td>Select the best Link Classifier model</td>\n    </tr>\n    <tr>\n      <th>Test set</th>\n      <td>54</td>\n      <td>Test Graph</td>\n      <td>Full Graph</td>\n      <td>Evaluate the best Link Classifier</td>\n    </tr>\n  </tbody>\n</table>\n</div>"
     },
     "metadata": {},
     "execution_count": 85
    }
   ],
   "source": [
    "pd.DataFrame(\n",
    "    [\n",
    "        (\n",
    "            \"Training Set\",\n",
    "            len(examples_train),\n",
    "            \"Train Graph\",\n",
    "            \"Test Graph\",\n",
    "            \"Train the Link Classifier\",\n",
    "        ),\n",
    "        (\n",
    "            \"Model Selection\",\n",
    "            len(examples_model_selection),\n",
    "            \"Train Graph\",\n",
    "            \"Test Graph\",\n",
    "            \"Select the best Link Classifier model\",\n",
    "        ),\n",
    "        (\n",
    "            \"Test set\",\n",
    "            len(examples_test),\n",
    "            \"Test Graph\",\n",
    "            \"Full Graph\",\n",
    "            \"Evaluate the best Link Classifier\",\n",
    "        ),\n",
    "    ],\n",
    "    columns=(\"Split\", \"Number of Examples\", \"Hidden from\", \"Picked from\", \"Use\"),\n",
    ").set_index(\"Split\")\n"
   ]
  },
  {
   "source": [
    "### Trying to split the data to perform binary link prediction\n",
    "\n",
    "used split from: https://github.com/stellargraph/stellargraph/discussions/1795\n",
    "\n",
    "This is most likely correct as well but a lot more work for the same result"
   ],
   "cell_type": "markdown",
   "metadata": {}
  },
  {
   "cell_type": "code",
   "execution_count": 47,
   "metadata": {},
   "outputs": [],
   "source": [
    "train_test_ratio = 0.05\n",
    "\n",
    "# create reduce graph and edges for test data\n",
    "edges_rg_test, edges_test = train_test_split(\n",
    "    edges, train_size= 1 - train_test_ratio , test_size=train_test_ratio\n",
    ")\n",
    "\n",
    "# create reduce graph and edges for train data\n",
    "edges_rg_train, edges_train = train_test_split(\n",
    "    edges_rg_test, train_size= 1 - train_test_ratio , test_size=train_test_ratio\n",
    ")"
   ]
  },
  {
   "cell_type": "code",
   "execution_count": null,
   "metadata": {},
   "outputs": [],
   "source": [
    "# convert test and train reduce graphs into stellargraph format\n",
    "# graph_test = StellarGraph({\"eater\": eater_nodes, \"merchant\": merchant_nodes}, edges_rg_test)\n",
    "# graph_train = StellarGraph({\"eater\": eater_nodes, \"merchant\": merchant_nodes}, edges_rg_train)\n",
    "\n",
    "# convert ids into series\n",
    "image_ids = edges.image.to_numpy()\n",
    "word_ids = edges.word.to_numpy()\n",
    "\n",
    "# generate all possible edges\n",
    "all_possible_edges = pd.DataFrame(\n",
    "    {\n",
    "        \"image\": np.random.choice(image_ids, size=50),\n",
    "        \"word\": np.random.choice(word_ids, size=163),\n",
    "        \"weight\": 0\n",
    "    }\n",
    ")\n",
    "\n",
    "# generate negative edges \n",
    "# TODO: need to add a column of ones to the edges dataframe\n",
    "all_possible_edges = pd.concat([all_possible_edges,edges])\n",
    "all_possible_edges = all_possible_edges.groupby(['image', 'word'])['weight'].agg('sum').reset_index()\n",
    "neg_edge_df = all_possible_edges.loc[all_possible_edges['weight'] == 0]\n",
    "\n",
    "\n",
    "# sample the negative edge cases for test (same number as positive edge cases)\n",
    "neg_test_ratio = len(edges_test)/len(neg_edge_df)\n",
    "\n",
    "edges_neg, edges_neg_test = model_selection.train_test_split(\n",
    "    neg_edge_df, train_size=(1.0 - neg_test_ratio), test_size= neg_test_ratio\n",
    ")\n",
    "\n",
    "# sample the negative edge cases for train (same number as positive edge cases)\n",
    "neg_train_ratio = len(edges_train)/len(edges_neg)\n",
    "\n",
    "edges_neg, edges_neg_train = model_selection.train_test_split(\n",
    "    edges_neg, train_size=(1.0 - neg_train_ratio), test_size= neg_train_ratio\n",
    ")\n",
    "\n",
    "# combine pos and neg cases to train and test\n",
    "edges_test = pd.concat([edges_test,edges_neg_test])\n",
    "edges_train = pd.concat([edges_train,edges_neg_train])\n",
    "\n",
    "# create edgelist and labels\n",
    "examples_train = list(edges_train[[\"source\", \"target\"]].itertuples(index=False))\n",
    "examples_test = list(edges_test[[\"source\", \"target\"]].itertuples(index=False))\n",
    "\n",
    "labels_train = edges_train[\"weight\"]\n",
    "labels_test = edges_test[\"weight\"]"
   ]
  },
  {
   "source": [
    "## Creating the model\n",
    "\n",
    "based on HinSAGE link prediction tutorial from: https://stellargraph.readthedocs.io/en/stable/demos/link-prediction/hinsage-link-prediction.html"
   ],
   "cell_type": "markdown",
   "metadata": {}
  },
  {
   "cell_type": "code",
   "execution_count": 90,
   "metadata": {},
   "outputs": [],
   "source": [
    "num_samples = [8, 4]\n",
    "\n",
    "generator = HinSAGELinkGenerator(\n",
    "    data, batch_size, num_samples, head_node_types=[\"word\", \"image\"]\n",
    ")\n",
    "train_gen = generator.flow(edges, labels, shuffle=True)\n",
    "test_gen = generator.flow(edges_test, labels_test)"
   ]
  },
  {
   "cell_type": "code",
   "execution_count": 91,
   "metadata": {},
   "outputs": [
    {
     "output_type": "execute_result",
     "data": {
      "text/plain": [
       "[('word', [2, 3]),\n",
       " ('image', [4, 5]),\n",
       " ('image', [6, 7]),\n",
       " ('word', [8, 9]),\n",
       " ('image', [10, 11]),\n",
       " ('word', [12, 13]),\n",
       " ('image', []),\n",
       " ('word', []),\n",
       " ('image', []),\n",
       " ('word', []),\n",
       " ('image', []),\n",
       " ('word', []),\n",
       " ('image', []),\n",
       " ('word', [])]"
      ]
     },
     "metadata": {},
     "execution_count": 91
    }
   ],
   "source": [
    "generator.schema.type_adjacency_list(generator.head_node_types, len(num_samples))"
   ]
  },
  {
   "cell_type": "code",
   "execution_count": 92,
   "metadata": {},
   "outputs": [
    {
     "output_type": "execute_result",
     "data": {
      "text/plain": [
       "{'word': [EdgeType(n1='word', rel='image2word', n2='image'),\n",
       "  EdgeType(n1='word', rel='word2word', n2='word')],\n",
       " 'image': [EdgeType(n1='image', rel='image2image', n2='image'),\n",
       "  EdgeType(n1='image', rel='image2word', n2='word')]}"
      ]
     },
     "metadata": {},
     "execution_count": 92
    }
   ],
   "source": [
    "generator.schema.schema"
   ]
  },
  {
   "cell_type": "code",
   "execution_count": 93,
   "metadata": {},
   "outputs": [],
   "source": [
    "hinsage_layer_sizes = [32, 32]\n",
    "assert len(hinsage_layer_sizes) == len(num_samples)\n",
    "\n",
    "hinsage = HinSAGE(\n",
    "    layer_sizes=hinsage_layer_sizes, generator=generator, bias=True, dropout=0.0\n",
    ")"
   ]
  },
  {
   "cell_type": "code",
   "execution_count": 94,
   "metadata": {},
   "outputs": [],
   "source": [
    "# Expose input and output sockets of hinsage:\n",
    "x_inp, x_out = hinsage.in_out_tensors()"
   ]
  },
  {
   "cell_type": "code",
   "execution_count": 96,
   "metadata": {},
   "outputs": [
    {
     "output_type": "stream",
     "name": "stdout",
     "text": [
      "link_regression: using 'concat' method to combine node embeddings into edge embeddings\n"
     ]
    }
   ],
   "source": [
    "# Final estimator layer\n",
    "score_prediction = link_regression(edge_embedding_method=\"concat\")(x_out)"
   ]
  },
  {
   "cell_type": "code",
   "execution_count": 97,
   "metadata": {},
   "outputs": [],
   "source": [
    "import tensorflow.keras.backend as K\n",
    "\n",
    "\n",
    "def root_mean_square_error(s_true, s_pred):\n",
    "    return K.sqrt(K.mean(K.pow(s_true - s_pred, 2)))\n",
    "\n",
    "\n",
    "model = Model(inputs=x_inp, outputs=score_prediction)\n",
    "model.compile(\n",
    "    optimizer=optimizers.Adam(lr=1e-2),\n",
    "    loss=losses.mean_squared_error,\n",
    "    metrics=[root_mean_square_error, metrics.mae],\n",
    ")"
   ]
  },
  {
   "cell_type": "code",
   "execution_count": 98,
   "metadata": {},
   "outputs": [],
   "source": [
    "# Specify the number of workers to use for model training\n",
    "num_workers = 4"
   ]
  },
  {
   "cell_type": "code",
   "execution_count": 99,
   "metadata": {},
   "outputs": [
    {
     "output_type": "stream",
     "name": "stdout",
     "text": [
      "3/3 [==============================] - 2s 21ms/step - loss: 1.2662 - root_mean_square_error: 1.0374 - mean_absolute_error: 1.0092\n",
      "Untrained model's Test Evaluation:\n",
      "\tloss: 0.9785\n",
      "\troot_mean_square_error: 0.8463\n",
      "\tmean_absolute_error: 0.8361\n"
     ]
    }
   ],
   "source": [
    "test_metrics = model.evaluate(\n",
    "    test_gen, verbose=1, use_multiprocessing=False, workers=num_workers\n",
    ")\n",
    "\n",
    "print(\"Untrained model's Test Evaluation:\")\n",
    "for name, val in zip(model.metrics_names, test_metrics):\n",
    "    print(\"\\t{}: {:0.4f}\".format(name, val))"
   ]
  },
  {
   "cell_type": "code",
   "execution_count": 100,
   "metadata": {},
   "outputs": [
    {
     "output_type": "stream",
     "name": "stdout",
     "text": [
      "Epoch 1/10\n",
      "3/3 [==============================] - 4s 175ms/step - loss: 0.6674 - root_mean_square_error: 0.7348 - mean_absolute_error: 0.7001 - val_loss: 0.2538 - val_root_mean_square_error: 0.4984 - val_mean_absolute_error: 0.5002\n",
      "Epoch 2/10\n",
      "3/3 [==============================] - 0s 137ms/step - loss: 0.2530 - root_mean_square_error: 0.5029 - mean_absolute_error: 0.4927 - val_loss: 0.2625 - val_root_mean_square_error: 0.4958 - val_mean_absolute_error: 0.5006\n",
      "Epoch 3/10\n",
      "3/3 [==============================] - 0s 131ms/step - loss: 0.2446 - root_mean_square_error: 0.4883 - mean_absolute_error: 0.4891 - val_loss: 0.2540 - val_root_mean_square_error: 0.5060 - val_mean_absolute_error: 0.4997\n",
      "Epoch 4/10\n",
      "3/3 [==============================] - 0s 141ms/step - loss: 0.2388 - root_mean_square_error: 0.4888 - mean_absolute_error: 0.4832 - val_loss: 0.2551 - val_root_mean_square_error: 0.5075 - val_mean_absolute_error: 0.5008\n",
      "Epoch 5/10\n",
      "3/3 [==============================] - 0s 129ms/step - loss: 0.2333 - root_mean_square_error: 0.4868 - mean_absolute_error: 0.4788 - val_loss: 0.2540 - val_root_mean_square_error: 0.5003 - val_mean_absolute_error: 0.5009\n",
      "Epoch 6/10\n",
      "3/3 [==============================] - 0s 131ms/step - loss: 0.2278 - root_mean_square_error: 0.4752 - mean_absolute_error: 0.4735 - val_loss: 0.2639 - val_root_mean_square_error: 0.4961 - val_mean_absolute_error: 0.5013\n",
      "Epoch 7/10\n",
      "3/3 [==============================] - 0s 128ms/step - loss: 0.2315 - root_mean_square_error: 0.4808 - mean_absolute_error: 0.4701 - val_loss: 0.2581 - val_root_mean_square_error: 0.4992 - val_mean_absolute_error: 0.5020\n",
      "Epoch 8/10\n",
      "3/3 [==============================] - 0s 130ms/step - loss: 0.2145 - root_mean_square_error: 0.4582 - mean_absolute_error: 0.4594 - val_loss: 0.2578 - val_root_mean_square_error: 0.5094 - val_mean_absolute_error: 0.5025\n",
      "Epoch 9/10\n",
      "3/3 [==============================] - 0s 128ms/step - loss: 0.2224 - root_mean_square_error: 0.4756 - mean_absolute_error: 0.4601 - val_loss: 0.2623 - val_root_mean_square_error: 0.5140 - val_mean_absolute_error: 0.5029\n",
      "Epoch 10/10\n",
      "3/3 [==============================] - 0s 128ms/step - loss: 0.2042 - root_mean_square_error: 0.4532 - mean_absolute_error: 0.4451 - val_loss: 0.2625 - val_root_mean_square_error: 0.5036 - val_mean_absolute_error: 0.5028\n"
     ]
    }
   ],
   "source": [
    "history = model.fit(\n",
    "    train_gen,\n",
    "    validation_data=test_gen,\n",
    "    epochs=epochs,\n",
    "    verbose=1,\n",
    "    shuffle=False,\n",
    "    use_multiprocessing=False,\n",
    "    workers=num_workers,\n",
    ")"
   ]
  },
  {
   "cell_type": "code",
   "execution_count": 101,
   "metadata": {},
   "outputs": [
    {
     "output_type": "stream",
     "name": "stdout",
     "text": [
      "3/3 [==============================] - 0s 23ms/step - loss: 0.2651 - root_mean_square_error: 0.5058 - mean_absolute_error: 0.5056\n",
      "Test Evaluation:\n",
      "\tloss: 0.2651\n",
      "\troot_mean_square_error: 0.5058\n",
      "\tmean_absolute_error: 0.5056\n"
     ]
    }
   ],
   "source": [
    "test_metrics = model.evaluate(\n",
    "    test_gen, use_multiprocessing=False, workers=num_workers, verbose=1\n",
    ")\n",
    "\n",
    "print(\"Test Evaluation:\")\n",
    "for name, val in zip(model.metrics_names, test_metrics):\n",
    "    print(\"\\t{}: {:0.4f}\".format(name, val))"
   ]
  },
  {
   "cell_type": "code",
   "execution_count": 102,
   "metadata": {},
   "outputs": [
    {
     "output_type": "stream",
     "name": "stdout",
     "text": [
      "Mean Baseline Test set metrics:\n\troot_mean_square_error =  0.5\n\tmean_absolute_error =  0.5\n\nModel Test set metrics:\n\troot_mean_square_error =  0.5137414903352675\n\tmean_absolute_error =  0.5044964872024678\n"
     ]
    }
   ],
   "source": [
    "y_true = labels_test\n",
    "# Predict the rankings using the model:\n",
    "y_pred = model.predict(test_gen)\n",
    "# Mean baseline rankings = mean movie ranking:\n",
    "y_pred_baseline = np.full_like(y_pred, np.mean(y_true))\n",
    "\n",
    "rmse = np.sqrt(mean_squared_error(y_true, y_pred_baseline))\n",
    "mae = mean_absolute_error(y_true, y_pred_baseline)\n",
    "print(\"Mean Baseline Test set metrics:\")\n",
    "print(\"\\troot_mean_square_error = \", rmse)\n",
    "print(\"\\tmean_absolute_error = \", mae)\n",
    "\n",
    "rmse = np.sqrt(mean_squared_error(y_true, y_pred))\n",
    "mae = mean_absolute_error(y_true, y_pred)\n",
    "print(\"\\nModel Test set metrics:\")\n",
    "print(\"\\troot_mean_square_error = \", rmse)\n",
    "print(\"\\tmean_absolute_error = \", mae)"
   ]
  },
  {
   "cell_type": "code",
   "execution_count": 103,
   "metadata": {},
   "outputs": [
    {
     "output_type": "display_data",
     "data": {
      "text/plain": "<Figure size 432x288 with 1 Axes>",
      "image/svg+xml": "<?xml version=\"1.0\" encoding=\"utf-8\" standalone=\"no\"?>\n<!DOCTYPE svg PUBLIC \"-//W3C//DTD SVG 1.1//EN\"\n  \"http://www.w3.org/Graphics/SVG/1.1/DTD/svg11.dtd\">\n<!-- Created with matplotlib (https://matplotlib.org/) -->\n<svg height=\"262.19625pt\" version=\"1.1\" viewBox=\"0 0 382.603125 262.19625\" width=\"382.603125pt\" xmlns=\"http://www.w3.org/2000/svg\" xmlns:xlink=\"http://www.w3.org/1999/xlink\">\n <metadata>\n  <rdf:RDF xmlns:cc=\"http://creativecommons.org/ns#\" xmlns:dc=\"http://purl.org/dc/elements/1.1/\" xmlns:rdf=\"http://www.w3.org/1999/02/22-rdf-syntax-ns#\">\n   <cc:Work>\n    <dc:type rdf:resource=\"http://purl.org/dc/dcmitype/StillImage\"/>\n    <dc:date>2021-02-28T12:45:45.600166</dc:date>\n    <dc:format>image/svg+xml</dc:format>\n    <dc:creator>\n     <cc:Agent>\n      <dc:title>Matplotlib v3.3.4, https://matplotlib.org/</dc:title>\n     </cc:Agent>\n    </dc:creator>\n   </cc:Work>\n  </rdf:RDF>\n </metadata>\n <defs>\n  <style type=\"text/css\">*{stroke-linecap:butt;stroke-linejoin:round;}</style>\n </defs>\n <g id=\"figure_1\">\n  <g id=\"patch_1\">\n   <path d=\"M 0 262.19625 \nL 382.603125 262.19625 \nL 382.603125 0 \nL 0 0 \nz\n\" style=\"fill:none;\"/>\n  </g>\n  <g id=\"axes_1\">\n   <g id=\"patch_2\">\n    <path d=\"M 40.603125 224.64 \nL 375.403125 224.64 \nL 375.403125 7.2 \nL 40.603125 7.2 \nz\n\" style=\"fill:#ffffff;\"/>\n   </g>\n   <g id=\"patch_3\">\n    <path clip-path=\"url(#p80c83b0d3a)\" d=\"M 55.821307 224.64 \nL 65.966761 224.64 \nL 65.966761 17.554286 \nL 55.821307 17.554286 \nz\n\" style=\"fill:#008000;opacity:0.5;\"/>\n   </g>\n   <g id=\"patch_4\">\n    <path clip-path=\"url(#p80c83b0d3a)\" d=\"M 65.966761 224.64 \nL 76.112216 224.64 \nL 76.112216 224.64 \nL 65.966761 224.64 \nz\n\" style=\"fill:#008000;opacity:0.5;\"/>\n   </g>\n   <g id=\"patch_5\">\n    <path clip-path=\"url(#p80c83b0d3a)\" d=\"M 76.112216 224.64 \nL 86.25767 224.64 \nL 86.25767 224.64 \nL 76.112216 224.64 \nz\n\" style=\"fill:#008000;opacity:0.5;\"/>\n   </g>\n   <g id=\"patch_6\">\n    <path clip-path=\"url(#p80c83b0d3a)\" d=\"M 86.25767 224.64 \nL 96.403125 224.64 \nL 96.403125 224.64 \nL 86.25767 224.64 \nz\n\" style=\"fill:#008000;opacity:0.5;\"/>\n   </g>\n   <g id=\"patch_7\">\n    <path clip-path=\"url(#p80c83b0d3a)\" d=\"M 96.403125 224.64 \nL 106.54858 224.64 \nL 106.54858 224.64 \nL 96.403125 224.64 \nz\n\" style=\"fill:#008000;opacity:0.5;\"/>\n   </g>\n   <g id=\"patch_8\">\n    <path clip-path=\"url(#p80c83b0d3a)\" d=\"M 106.54858 224.64 \nL 116.694034 224.64 \nL 116.694034 224.64 \nL 106.54858 224.64 \nz\n\" style=\"fill:#008000;opacity:0.5;\"/>\n   </g>\n   <g id=\"patch_9\">\n    <path clip-path=\"url(#p80c83b0d3a)\" d=\"M 116.694034 224.64 \nL 126.839489 224.64 \nL 126.839489 224.64 \nL 116.694034 224.64 \nz\n\" style=\"fill:#008000;opacity:0.5;\"/>\n   </g>\n   <g id=\"patch_10\">\n    <path clip-path=\"url(#p80c83b0d3a)\" d=\"M 126.839489 224.64 \nL 136.984943 224.64 \nL 136.984943 224.64 \nL 126.839489 224.64 \nz\n\" style=\"fill:#008000;opacity:0.5;\"/>\n   </g>\n   <g id=\"patch_11\">\n    <path clip-path=\"url(#p80c83b0d3a)\" d=\"M 136.984943 224.64 \nL 147.130398 224.64 \nL 147.130398 224.64 \nL 136.984943 224.64 \nz\n\" style=\"fill:#008000;opacity:0.5;\"/>\n   </g>\n   <g id=\"patch_12\">\n    <path clip-path=\"url(#p80c83b0d3a)\" d=\"M 147.130398 224.64 \nL 157.275852 224.64 \nL 157.275852 224.64 \nL 147.130398 224.64 \nz\n\" style=\"fill:#008000;opacity:0.5;\"/>\n   </g>\n   <g id=\"patch_13\">\n    <path clip-path=\"url(#p80c83b0d3a)\" d=\"M 157.275852 224.64 \nL 167.421307 224.64 \nL 167.421307 224.64 \nL 157.275852 224.64 \nz\n\" style=\"fill:#008000;opacity:0.5;\"/>\n   </g>\n   <g id=\"patch_14\">\n    <path clip-path=\"url(#p80c83b0d3a)\" d=\"M 167.421307 224.64 \nL 177.566761 224.64 \nL 177.566761 224.64 \nL 167.421307 224.64 \nz\n\" style=\"fill:#008000;opacity:0.5;\"/>\n   </g>\n   <g id=\"patch_15\">\n    <path clip-path=\"url(#p80c83b0d3a)\" d=\"M 177.566761 224.64 \nL 187.712216 224.64 \nL 187.712216 224.64 \nL 177.566761 224.64 \nz\n\" style=\"fill:#008000;opacity:0.5;\"/>\n   </g>\n   <g id=\"patch_16\">\n    <path clip-path=\"url(#p80c83b0d3a)\" d=\"M 187.712216 224.64 \nL 197.85767 224.64 \nL 197.85767 224.64 \nL 187.712216 224.64 \nz\n\" style=\"fill:#008000;opacity:0.5;\"/>\n   </g>\n   <g id=\"patch_17\">\n    <path clip-path=\"url(#p80c83b0d3a)\" d=\"M 197.85767 224.64 \nL 208.003125 224.64 \nL 208.003125 224.64 \nL 197.85767 224.64 \nz\n\" style=\"fill:#008000;opacity:0.5;\"/>\n   </g>\n   <g id=\"patch_18\">\n    <path clip-path=\"url(#p80c83b0d3a)\" d=\"M 208.003125 224.64 \nL 218.14858 224.64 \nL 218.14858 224.64 \nL 208.003125 224.64 \nz\n\" style=\"fill:#008000;opacity:0.5;\"/>\n   </g>\n   <g id=\"patch_19\">\n    <path clip-path=\"url(#p80c83b0d3a)\" d=\"M 218.14858 224.64 \nL 228.294034 224.64 \nL 228.294034 224.64 \nL 218.14858 224.64 \nz\n\" style=\"fill:#008000;opacity:0.5;\"/>\n   </g>\n   <g id=\"patch_20\">\n    <path clip-path=\"url(#p80c83b0d3a)\" d=\"M 228.294034 224.64 \nL 238.439489 224.64 \nL 238.439489 224.64 \nL 228.294034 224.64 \nz\n\" style=\"fill:#008000;opacity:0.5;\"/>\n   </g>\n   <g id=\"patch_21\">\n    <path clip-path=\"url(#p80c83b0d3a)\" d=\"M 238.439489 224.64 \nL 248.584943 224.64 \nL 248.584943 224.64 \nL 238.439489 224.64 \nz\n\" style=\"fill:#008000;opacity:0.5;\"/>\n   </g>\n   <g id=\"patch_22\">\n    <path clip-path=\"url(#p80c83b0d3a)\" d=\"M 248.584943 224.64 \nL 258.730398 224.64 \nL 258.730398 224.64 \nL 248.584943 224.64 \nz\n\" style=\"fill:#008000;opacity:0.5;\"/>\n   </g>\n   <g id=\"patch_23\">\n    <path clip-path=\"url(#p80c83b0d3a)\" d=\"M 258.730398 224.64 \nL 268.875852 224.64 \nL 268.875852 224.64 \nL 258.730398 224.64 \nz\n\" style=\"fill:#008000;opacity:0.5;\"/>\n   </g>\n   <g id=\"patch_24\">\n    <path clip-path=\"url(#p80c83b0d3a)\" d=\"M 268.875852 224.64 \nL 279.021307 224.64 \nL 279.021307 224.64 \nL 268.875852 224.64 \nz\n\" style=\"fill:#008000;opacity:0.5;\"/>\n   </g>\n   <g id=\"patch_25\">\n    <path clip-path=\"url(#p80c83b0d3a)\" d=\"M 279.021307 224.64 \nL 289.166761 224.64 \nL 289.166761 224.64 \nL 279.021307 224.64 \nz\n\" style=\"fill:#008000;opacity:0.5;\"/>\n   </g>\n   <g id=\"patch_26\">\n    <path clip-path=\"url(#p80c83b0d3a)\" d=\"M 289.166761 224.64 \nL 299.312216 224.64 \nL 299.312216 224.64 \nL 289.166761 224.64 \nz\n\" style=\"fill:#008000;opacity:0.5;\"/>\n   </g>\n   <g id=\"patch_27\">\n    <path clip-path=\"url(#p80c83b0d3a)\" d=\"M 299.312216 224.64 \nL 309.45767 224.64 \nL 309.45767 224.64 \nL 299.312216 224.64 \nz\n\" style=\"fill:#008000;opacity:0.5;\"/>\n   </g>\n   <g id=\"patch_28\">\n    <path clip-path=\"url(#p80c83b0d3a)\" d=\"M 309.45767 224.64 \nL 319.603125 224.64 \nL 319.603125 224.64 \nL 309.45767 224.64 \nz\n\" style=\"fill:#008000;opacity:0.5;\"/>\n   </g>\n   <g id=\"patch_29\">\n    <path clip-path=\"url(#p80c83b0d3a)\" d=\"M 319.603125 224.64 \nL 329.74858 224.64 \nL 329.74858 224.64 \nL 319.603125 224.64 \nz\n\" style=\"fill:#008000;opacity:0.5;\"/>\n   </g>\n   <g id=\"patch_30\">\n    <path clip-path=\"url(#p80c83b0d3a)\" d=\"M 329.74858 224.64 \nL 339.894034 224.64 \nL 339.894034 224.64 \nL 329.74858 224.64 \nz\n\" style=\"fill:#008000;opacity:0.5;\"/>\n   </g>\n   <g id=\"patch_31\">\n    <path clip-path=\"url(#p80c83b0d3a)\" d=\"M 339.894034 224.64 \nL 350.039489 224.64 \nL 350.039489 224.64 \nL 339.894034 224.64 \nz\n\" style=\"fill:#008000;opacity:0.5;\"/>\n   </g>\n   <g id=\"patch_32\">\n    <path clip-path=\"url(#p80c83b0d3a)\" d=\"M 350.039489 224.64 \nL 360.184943 224.64 \nL 360.184943 17.554286 \nL 350.039489 17.554286 \nz\n\" style=\"fill:#008000;opacity:0.5;\"/>\n   </g>\n   <g id=\"patch_33\">\n    <path clip-path=\"url(#p80c83b0d3a)\" d=\"M 150.403661 224.64 \nL 154.315528 224.64 \nL 154.315528 216.970159 \nL 150.403661 216.970159 \nz\n\" style=\"fill:#0000ff;opacity:0.5;\"/>\n   </g>\n   <g id=\"patch_34\">\n    <path clip-path=\"url(#p80c83b0d3a)\" d=\"M 154.315528 224.64 \nL 158.227394 224.64 \nL 158.227394 216.970159 \nL 154.315528 216.970159 \nz\n\" style=\"fill:#0000ff;opacity:0.5;\"/>\n   </g>\n   <g id=\"patch_35\">\n    <path clip-path=\"url(#p80c83b0d3a)\" d=\"M 158.227394 224.64 \nL 162.139261 224.64 \nL 162.139261 186.290794 \nL 158.227394 186.290794 \nz\n\" style=\"fill:#0000ff;opacity:0.5;\"/>\n   </g>\n   <g id=\"patch_36\">\n    <path clip-path=\"url(#p80c83b0d3a)\" d=\"M 162.139261 224.64 \nL 166.051128 224.64 \nL 166.051128 216.970159 \nL 162.139261 216.970159 \nz\n\" style=\"fill:#0000ff;opacity:0.5;\"/>\n   </g>\n   <g id=\"patch_37\">\n    <path clip-path=\"url(#p80c83b0d3a)\" d=\"M 166.051128 224.64 \nL 169.962995 224.64 \nL 169.962995 201.630476 \nL 166.051128 201.630476 \nz\n\" style=\"fill:#0000ff;opacity:0.5;\"/>\n   </g>\n   <g id=\"patch_38\">\n    <path clip-path=\"url(#p80c83b0d3a)\" d=\"M 169.962995 224.64 \nL 173.874862 224.64 \nL 173.874862 201.630476 \nL 169.962995 201.630476 \nz\n\" style=\"fill:#0000ff;opacity:0.5;\"/>\n   </g>\n   <g id=\"patch_39\">\n    <path clip-path=\"url(#p80c83b0d3a)\" d=\"M 173.874862 224.64 \nL 177.786729 224.64 \nL 177.786729 201.630476 \nL 173.874862 201.630476 \nz\n\" style=\"fill:#0000ff;opacity:0.5;\"/>\n   </g>\n   <g id=\"patch_40\">\n    <path clip-path=\"url(#p80c83b0d3a)\" d=\"M 177.786729 224.64 \nL 181.698596 224.64 \nL 181.698596 186.290794 \nL 177.786729 186.290794 \nz\n\" style=\"fill:#0000ff;opacity:0.5;\"/>\n   </g>\n   <g id=\"patch_41\">\n    <path clip-path=\"url(#p80c83b0d3a)\" d=\"M 181.698596 224.64 \nL 185.610462 224.64 \nL 185.610462 201.630476 \nL 181.698596 201.630476 \nz\n\" style=\"fill:#0000ff;opacity:0.5;\"/>\n   </g>\n   <g id=\"patch_42\">\n    <path clip-path=\"url(#p80c83b0d3a)\" d=\"M 185.610462 224.64 \nL 189.522329 224.64 \nL 189.522329 186.290794 \nL 185.610462 186.290794 \nz\n\" style=\"fill:#0000ff;opacity:0.5;\"/>\n   </g>\n   <g id=\"patch_43\">\n    <path clip-path=\"url(#p80c83b0d3a)\" d=\"M 189.522329 224.64 \nL 193.434196 224.64 \nL 193.434196 216.970159 \nL 189.522329 216.970159 \nz\n\" style=\"fill:#0000ff;opacity:0.5;\"/>\n   </g>\n   <g id=\"patch_44\">\n    <path clip-path=\"url(#p80c83b0d3a)\" d=\"M 193.434196 224.64 \nL 197.346063 224.64 \nL 197.346063 201.630476 \nL 193.434196 201.630476 \nz\n\" style=\"fill:#0000ff;opacity:0.5;\"/>\n   </g>\n   <g id=\"patch_45\">\n    <path clip-path=\"url(#p80c83b0d3a)\" d=\"M 197.346063 224.64 \nL 201.25793 224.64 \nL 201.25793 193.960635 \nL 197.346063 193.960635 \nz\n\" style=\"fill:#0000ff;opacity:0.5;\"/>\n   </g>\n   <g id=\"patch_46\">\n    <path clip-path=\"url(#p80c83b0d3a)\" d=\"M 201.25793 224.64 \nL 205.169797 224.64 \nL 205.169797 216.970159 \nL 201.25793 216.970159 \nz\n\" style=\"fill:#0000ff;opacity:0.5;\"/>\n   </g>\n   <g id=\"patch_47\">\n    <path clip-path=\"url(#p80c83b0d3a)\" d=\"M 205.169806 224.64 \nL 209.081673 224.64 \nL 209.081673 209.300317 \nL 205.169806 209.300317 \nz\n\" style=\"fill:#0000ff;opacity:0.5;\"/>\n   </g>\n   <g id=\"patch_48\">\n    <path clip-path=\"url(#p80c83b0d3a)\" d=\"M 209.081636 224.64 \nL 212.993503 224.64 \nL 212.993503 209.300317 \nL 209.081636 209.300317 \nz\n\" style=\"fill:#0000ff;opacity:0.5;\"/>\n   </g>\n   <g id=\"patch_49\">\n    <path clip-path=\"url(#p80c83b0d3a)\" d=\"M 212.993521 224.64 \nL 216.905388 224.64 \nL 216.905388 209.300317 \nL 212.993521 209.300317 \nz\n\" style=\"fill:#0000ff;opacity:0.5;\"/>\n   </g>\n   <g id=\"patch_50\">\n    <path clip-path=\"url(#p80c83b0d3a)\" d=\"M 216.90537 224.64 \nL 220.817237 224.64 \nL 220.817237 209.300317 \nL 216.90537 209.300317 \nz\n\" style=\"fill:#0000ff;opacity:0.5;\"/>\n   </g>\n   <g id=\"patch_51\">\n    <path clip-path=\"url(#p80c83b0d3a)\" d=\"M 220.817255 224.64 \nL 224.729122 224.64 \nL 224.729122 224.64 \nL 220.817255 224.64 \nz\n\" style=\"fill:#0000ff;opacity:0.5;\"/>\n   </g>\n   <g id=\"patch_52\">\n    <path clip-path=\"url(#p80c83b0d3a)\" d=\"M 224.729104 224.64 \nL 228.640971 224.64 \nL 228.640971 209.300317 \nL 224.729104 209.300317 \nz\n\" style=\"fill:#0000ff;opacity:0.5;\"/>\n   </g>\n   <g id=\"patch_53\">\n    <path clip-path=\"url(#p80c83b0d3a)\" d=\"M 228.640989 224.64 \nL 232.552856 224.64 \nL 232.552856 216.970159 \nL 228.640989 216.970159 \nz\n\" style=\"fill:#0000ff;opacity:0.5;\"/>\n   </g>\n   <g id=\"patch_54\">\n    <path clip-path=\"url(#p80c83b0d3a)\" d=\"M 232.552838 224.64 \nL 236.464704 224.64 \nL 236.464704 209.300317 \nL 232.552838 209.300317 \nz\n\" style=\"fill:#0000ff;opacity:0.5;\"/>\n   </g>\n   <g id=\"patch_55\">\n    <path clip-path=\"url(#p80c83b0d3a)\" d=\"M 236.464723 224.64 \nL 240.376589 224.64 \nL 240.376589 216.970159 \nL 236.464723 216.970159 \nz\n\" style=\"fill:#0000ff;opacity:0.5;\"/>\n   </g>\n   <g id=\"patch_56\">\n    <path clip-path=\"url(#p80c83b0d3a)\" d=\"M 240.376571 224.64 \nL 244.288438 224.64 \nL 244.288438 224.64 \nL 240.376571 224.64 \nz\n\" style=\"fill:#0000ff;opacity:0.5;\"/>\n   </g>\n   <g id=\"patch_57\">\n    <path clip-path=\"url(#p80c83b0d3a)\" d=\"M 244.288456 224.64 \nL 248.200323 224.64 \nL 248.200323 224.64 \nL 244.288456 224.64 \nz\n\" style=\"fill:#0000ff;opacity:0.5;\"/>\n   </g>\n   <g id=\"patch_58\">\n    <path clip-path=\"url(#p80c83b0d3a)\" d=\"M 248.200305 224.64 \nL 252.112172 224.64 \nL 252.112172 224.64 \nL 248.200305 224.64 \nz\n\" style=\"fill:#0000ff;opacity:0.5;\"/>\n   </g>\n   <g id=\"patch_59\">\n    <path clip-path=\"url(#p80c83b0d3a)\" d=\"M 252.11219 224.64 \nL 256.024057 224.64 \nL 256.024057 224.64 \nL 252.11219 224.64 \nz\n\" style=\"fill:#0000ff;opacity:0.5;\"/>\n   </g>\n   <g id=\"patch_60\">\n    <path clip-path=\"url(#p80c83b0d3a)\" d=\"M 256.024039 224.64 \nL 259.935906 224.64 \nL 259.935906 224.64 \nL 256.024039 224.64 \nz\n\" style=\"fill:#0000ff;opacity:0.5;\"/>\n   </g>\n   <g id=\"patch_61\">\n    <path clip-path=\"url(#p80c83b0d3a)\" d=\"M 259.935924 224.64 \nL 263.847791 224.64 \nL 263.847791 224.64 \nL 259.935924 224.64 \nz\n\" style=\"fill:#0000ff;opacity:0.5;\"/>\n   </g>\n   <g id=\"patch_62\">\n    <path clip-path=\"url(#p80c83b0d3a)\" d=\"M 263.847772 224.64 \nL 267.759639 224.64 \nL 267.759639 216.970159 \nL 263.847772 216.970159 \nz\n\" style=\"fill:#0000ff;opacity:0.5;\"/>\n   </g>\n   <g id=\"matplotlib.axis_1\">\n    <g id=\"xtick_1\">\n     <g id=\"line2d_1\">\n      <defs>\n       <path d=\"M 0 0 \nL 0 3.5 \n\" id=\"md461cf1df0\" style=\"stroke:#000000;stroke-width:0.8;\"/>\n      </defs>\n      <g>\n       <use style=\"stroke:#000000;stroke-width:0.8;\" x=\"55.821307\" xlink:href=\"#md461cf1df0\" y=\"224.64\"/>\n      </g>\n     </g>\n     <g id=\"text_1\">\n      <!-- 0.0 -->\n      <g transform=\"translate(47.869744 239.238437)scale(0.1 -0.1)\">\n       <defs>\n        <path d=\"M 31.78125 66.40625 \nQ 24.171875 66.40625 20.328125 58.90625 \nQ 16.5 51.421875 16.5 36.375 \nQ 16.5 21.390625 20.328125 13.890625 \nQ 24.171875 6.390625 31.78125 6.390625 \nQ 39.453125 6.390625 43.28125 13.890625 \nQ 47.125 21.390625 47.125 36.375 \nQ 47.125 51.421875 43.28125 58.90625 \nQ 39.453125 66.40625 31.78125 66.40625 \nz\nM 31.78125 74.21875 \nQ 44.046875 74.21875 50.515625 64.515625 \nQ 56.984375 54.828125 56.984375 36.375 \nQ 56.984375 17.96875 50.515625 8.265625 \nQ 44.046875 -1.421875 31.78125 -1.421875 \nQ 19.53125 -1.421875 13.0625 8.265625 \nQ 6.59375 17.96875 6.59375 36.375 \nQ 6.59375 54.828125 13.0625 64.515625 \nQ 19.53125 74.21875 31.78125 74.21875 \nz\n\" id=\"DejaVuSans-48\"/>\n        <path d=\"M 10.6875 12.40625 \nL 21 12.40625 \nL 21 0 \nL 10.6875 0 \nz\n\" id=\"DejaVuSans-46\"/>\n       </defs>\n       <use xlink:href=\"#DejaVuSans-48\"/>\n       <use x=\"63.623047\" xlink:href=\"#DejaVuSans-46\"/>\n       <use x=\"95.410156\" xlink:href=\"#DejaVuSans-48\"/>\n      </g>\n     </g>\n    </g>\n    <g id=\"xtick_2\">\n     <g id=\"line2d_2\">\n      <g>\n       <use style=\"stroke:#000000;stroke-width:0.8;\" x=\"116.694034\" xlink:href=\"#md461cf1df0\" y=\"224.64\"/>\n      </g>\n     </g>\n     <g id=\"text_2\">\n      <!-- 0.2 -->\n      <g transform=\"translate(108.742472 239.238437)scale(0.1 -0.1)\">\n       <defs>\n        <path d=\"M 19.1875 8.296875 \nL 53.609375 8.296875 \nL 53.609375 0 \nL 7.328125 0 \nL 7.328125 8.296875 \nQ 12.9375 14.109375 22.625 23.890625 \nQ 32.328125 33.6875 34.8125 36.53125 \nQ 39.546875 41.84375 41.421875 45.53125 \nQ 43.3125 49.21875 43.3125 52.78125 \nQ 43.3125 58.59375 39.234375 62.25 \nQ 35.15625 65.921875 28.609375 65.921875 \nQ 23.96875 65.921875 18.8125 64.3125 \nQ 13.671875 62.703125 7.8125 59.421875 \nL 7.8125 69.390625 \nQ 13.765625 71.78125 18.9375 73 \nQ 24.125 74.21875 28.421875 74.21875 \nQ 39.75 74.21875 46.484375 68.546875 \nQ 53.21875 62.890625 53.21875 53.421875 \nQ 53.21875 48.921875 51.53125 44.890625 \nQ 49.859375 40.875 45.40625 35.40625 \nQ 44.1875 33.984375 37.640625 27.21875 \nQ 31.109375 20.453125 19.1875 8.296875 \nz\n\" id=\"DejaVuSans-50\"/>\n       </defs>\n       <use xlink:href=\"#DejaVuSans-48\"/>\n       <use x=\"63.623047\" xlink:href=\"#DejaVuSans-46\"/>\n       <use x=\"95.410156\" xlink:href=\"#DejaVuSans-50\"/>\n      </g>\n     </g>\n    </g>\n    <g id=\"xtick_3\">\n     <g id=\"line2d_3\">\n      <g>\n       <use style=\"stroke:#000000;stroke-width:0.8;\" x=\"177.566761\" xlink:href=\"#md461cf1df0\" y=\"224.64\"/>\n      </g>\n     </g>\n     <g id=\"text_3\">\n      <!-- 0.4 -->\n      <g transform=\"translate(169.615199 239.238437)scale(0.1 -0.1)\">\n       <defs>\n        <path d=\"M 37.796875 64.3125 \nL 12.890625 25.390625 \nL 37.796875 25.390625 \nz\nM 35.203125 72.90625 \nL 47.609375 72.90625 \nL 47.609375 25.390625 \nL 58.015625 25.390625 \nL 58.015625 17.1875 \nL 47.609375 17.1875 \nL 47.609375 0 \nL 37.796875 0 \nL 37.796875 17.1875 \nL 4.890625 17.1875 \nL 4.890625 26.703125 \nz\n\" id=\"DejaVuSans-52\"/>\n       </defs>\n       <use xlink:href=\"#DejaVuSans-48\"/>\n       <use x=\"63.623047\" xlink:href=\"#DejaVuSans-46\"/>\n       <use x=\"95.410156\" xlink:href=\"#DejaVuSans-52\"/>\n      </g>\n     </g>\n    </g>\n    <g id=\"xtick_4\">\n     <g id=\"line2d_4\">\n      <g>\n       <use style=\"stroke:#000000;stroke-width:0.8;\" x=\"238.439489\" xlink:href=\"#md461cf1df0\" y=\"224.64\"/>\n      </g>\n     </g>\n     <g id=\"text_4\">\n      <!-- 0.6 -->\n      <g transform=\"translate(230.487926 239.238437)scale(0.1 -0.1)\">\n       <defs>\n        <path d=\"M 33.015625 40.375 \nQ 26.375 40.375 22.484375 35.828125 \nQ 18.609375 31.296875 18.609375 23.390625 \nQ 18.609375 15.53125 22.484375 10.953125 \nQ 26.375 6.390625 33.015625 6.390625 \nQ 39.65625 6.390625 43.53125 10.953125 \nQ 47.40625 15.53125 47.40625 23.390625 \nQ 47.40625 31.296875 43.53125 35.828125 \nQ 39.65625 40.375 33.015625 40.375 \nz\nM 52.59375 71.296875 \nL 52.59375 62.3125 \nQ 48.875 64.0625 45.09375 64.984375 \nQ 41.3125 65.921875 37.59375 65.921875 \nQ 27.828125 65.921875 22.671875 59.328125 \nQ 17.53125 52.734375 16.796875 39.40625 \nQ 19.671875 43.65625 24.015625 45.921875 \nQ 28.375 48.1875 33.59375 48.1875 \nQ 44.578125 48.1875 50.953125 41.515625 \nQ 57.328125 34.859375 57.328125 23.390625 \nQ 57.328125 12.15625 50.6875 5.359375 \nQ 44.046875 -1.421875 33.015625 -1.421875 \nQ 20.359375 -1.421875 13.671875 8.265625 \nQ 6.984375 17.96875 6.984375 36.375 \nQ 6.984375 53.65625 15.1875 63.9375 \nQ 23.390625 74.21875 37.203125 74.21875 \nQ 40.921875 74.21875 44.703125 73.484375 \nQ 48.484375 72.75 52.59375 71.296875 \nz\n\" id=\"DejaVuSans-54\"/>\n       </defs>\n       <use xlink:href=\"#DejaVuSans-48\"/>\n       <use x=\"63.623047\" xlink:href=\"#DejaVuSans-46\"/>\n       <use x=\"95.410156\" xlink:href=\"#DejaVuSans-54\"/>\n      </g>\n     </g>\n    </g>\n    <g id=\"xtick_5\">\n     <g id=\"line2d_5\">\n      <g>\n       <use style=\"stroke:#000000;stroke-width:0.8;\" x=\"299.312216\" xlink:href=\"#md461cf1df0\" y=\"224.64\"/>\n      </g>\n     </g>\n     <g id=\"text_5\">\n      <!-- 0.8 -->\n      <g transform=\"translate(291.360653 239.238437)scale(0.1 -0.1)\">\n       <defs>\n        <path d=\"M 31.78125 34.625 \nQ 24.75 34.625 20.71875 30.859375 \nQ 16.703125 27.09375 16.703125 20.515625 \nQ 16.703125 13.921875 20.71875 10.15625 \nQ 24.75 6.390625 31.78125 6.390625 \nQ 38.8125 6.390625 42.859375 10.171875 \nQ 46.921875 13.96875 46.921875 20.515625 \nQ 46.921875 27.09375 42.890625 30.859375 \nQ 38.875 34.625 31.78125 34.625 \nz\nM 21.921875 38.8125 \nQ 15.578125 40.375 12.03125 44.71875 \nQ 8.5 49.078125 8.5 55.328125 \nQ 8.5 64.0625 14.71875 69.140625 \nQ 20.953125 74.21875 31.78125 74.21875 \nQ 42.671875 74.21875 48.875 69.140625 \nQ 55.078125 64.0625 55.078125 55.328125 \nQ 55.078125 49.078125 51.53125 44.71875 \nQ 48 40.375 41.703125 38.8125 \nQ 48.828125 37.15625 52.796875 32.3125 \nQ 56.78125 27.484375 56.78125 20.515625 \nQ 56.78125 9.90625 50.3125 4.234375 \nQ 43.84375 -1.421875 31.78125 -1.421875 \nQ 19.734375 -1.421875 13.25 4.234375 \nQ 6.78125 9.90625 6.78125 20.515625 \nQ 6.78125 27.484375 10.78125 32.3125 \nQ 14.796875 37.15625 21.921875 38.8125 \nz\nM 18.3125 54.390625 \nQ 18.3125 48.734375 21.84375 45.5625 \nQ 25.390625 42.390625 31.78125 42.390625 \nQ 38.140625 42.390625 41.71875 45.5625 \nQ 45.3125 48.734375 45.3125 54.390625 \nQ 45.3125 60.0625 41.71875 63.234375 \nQ 38.140625 66.40625 31.78125 66.40625 \nQ 25.390625 66.40625 21.84375 63.234375 \nQ 18.3125 60.0625 18.3125 54.390625 \nz\n\" id=\"DejaVuSans-56\"/>\n       </defs>\n       <use xlink:href=\"#DejaVuSans-48\"/>\n       <use x=\"63.623047\" xlink:href=\"#DejaVuSans-46\"/>\n       <use x=\"95.410156\" xlink:href=\"#DejaVuSans-56\"/>\n      </g>\n     </g>\n    </g>\n    <g id=\"xtick_6\">\n     <g id=\"line2d_6\">\n      <g>\n       <use style=\"stroke:#000000;stroke-width:0.8;\" x=\"360.184943\" xlink:href=\"#md461cf1df0\" y=\"224.64\"/>\n      </g>\n     </g>\n     <g id=\"text_6\">\n      <!-- 1.0 -->\n      <g transform=\"translate(352.233381 239.238437)scale(0.1 -0.1)\">\n       <defs>\n        <path d=\"M 12.40625 8.296875 \nL 28.515625 8.296875 \nL 28.515625 63.921875 \nL 10.984375 60.40625 \nL 10.984375 69.390625 \nL 28.421875 72.90625 \nL 38.28125 72.90625 \nL 38.28125 8.296875 \nL 54.390625 8.296875 \nL 54.390625 0 \nL 12.40625 0 \nz\n\" id=\"DejaVuSans-49\"/>\n       </defs>\n       <use xlink:href=\"#DejaVuSans-49\"/>\n       <use x=\"63.623047\" xlink:href=\"#DejaVuSans-46\"/>\n       <use x=\"95.410156\" xlink:href=\"#DejaVuSans-48\"/>\n      </g>\n     </g>\n    </g>\n    <g id=\"text_7\">\n     <!-- ranking -->\n     <g transform=\"translate(189.0875 252.916562)scale(0.1 -0.1)\">\n      <defs>\n       <path d=\"M 41.109375 46.296875 \nQ 39.59375 47.171875 37.8125 47.578125 \nQ 36.03125 48 33.890625 48 \nQ 26.265625 48 22.1875 43.046875 \nQ 18.109375 38.09375 18.109375 28.8125 \nL 18.109375 0 \nL 9.078125 0 \nL 9.078125 54.6875 \nL 18.109375 54.6875 \nL 18.109375 46.1875 \nQ 20.953125 51.171875 25.484375 53.578125 \nQ 30.03125 56 36.53125 56 \nQ 37.453125 56 38.578125 55.875 \nQ 39.703125 55.765625 41.0625 55.515625 \nz\n\" id=\"DejaVuSans-114\"/>\n       <path d=\"M 34.28125 27.484375 \nQ 23.390625 27.484375 19.1875 25 \nQ 14.984375 22.515625 14.984375 16.5 \nQ 14.984375 11.71875 18.140625 8.90625 \nQ 21.296875 6.109375 26.703125 6.109375 \nQ 34.1875 6.109375 38.703125 11.40625 \nQ 43.21875 16.703125 43.21875 25.484375 \nL 43.21875 27.484375 \nz\nM 52.203125 31.203125 \nL 52.203125 0 \nL 43.21875 0 \nL 43.21875 8.296875 \nQ 40.140625 3.328125 35.546875 0.953125 \nQ 30.953125 -1.421875 24.3125 -1.421875 \nQ 15.921875 -1.421875 10.953125 3.296875 \nQ 6 8.015625 6 15.921875 \nQ 6 25.140625 12.171875 29.828125 \nQ 18.359375 34.515625 30.609375 34.515625 \nL 43.21875 34.515625 \nL 43.21875 35.40625 \nQ 43.21875 41.609375 39.140625 45 \nQ 35.0625 48.390625 27.6875 48.390625 \nQ 23 48.390625 18.546875 47.265625 \nQ 14.109375 46.140625 10.015625 43.890625 \nL 10.015625 52.203125 \nQ 14.9375 54.109375 19.578125 55.046875 \nQ 24.21875 56 28.609375 56 \nQ 40.484375 56 46.34375 49.84375 \nQ 52.203125 43.703125 52.203125 31.203125 \nz\n\" id=\"DejaVuSans-97\"/>\n       <path d=\"M 54.890625 33.015625 \nL 54.890625 0 \nL 45.90625 0 \nL 45.90625 32.71875 \nQ 45.90625 40.484375 42.875 44.328125 \nQ 39.84375 48.1875 33.796875 48.1875 \nQ 26.515625 48.1875 22.3125 43.546875 \nQ 18.109375 38.921875 18.109375 30.90625 \nL 18.109375 0 \nL 9.078125 0 \nL 9.078125 54.6875 \nL 18.109375 54.6875 \nL 18.109375 46.1875 \nQ 21.34375 51.125 25.703125 53.5625 \nQ 30.078125 56 35.796875 56 \nQ 45.21875 56 50.046875 50.171875 \nQ 54.890625 44.34375 54.890625 33.015625 \nz\n\" id=\"DejaVuSans-110\"/>\n       <path d=\"M 9.078125 75.984375 \nL 18.109375 75.984375 \nL 18.109375 31.109375 \nL 44.921875 54.6875 \nL 56.390625 54.6875 \nL 27.390625 29.109375 \nL 57.625 0 \nL 45.90625 0 \nL 18.109375 26.703125 \nL 18.109375 0 \nL 9.078125 0 \nz\n\" id=\"DejaVuSans-107\"/>\n       <path d=\"M 9.421875 54.6875 \nL 18.40625 54.6875 \nL 18.40625 0 \nL 9.421875 0 \nz\nM 9.421875 75.984375 \nL 18.40625 75.984375 \nL 18.40625 64.59375 \nL 9.421875 64.59375 \nz\n\" id=\"DejaVuSans-105\"/>\n       <path d=\"M 45.40625 27.984375 \nQ 45.40625 37.75 41.375 43.109375 \nQ 37.359375 48.484375 30.078125 48.484375 \nQ 22.859375 48.484375 18.828125 43.109375 \nQ 14.796875 37.75 14.796875 27.984375 \nQ 14.796875 18.265625 18.828125 12.890625 \nQ 22.859375 7.515625 30.078125 7.515625 \nQ 37.359375 7.515625 41.375 12.890625 \nQ 45.40625 18.265625 45.40625 27.984375 \nz\nM 54.390625 6.78125 \nQ 54.390625 -7.171875 48.1875 -13.984375 \nQ 42 -20.796875 29.203125 -20.796875 \nQ 24.46875 -20.796875 20.265625 -20.09375 \nQ 16.0625 -19.390625 12.109375 -17.921875 \nL 12.109375 -9.1875 \nQ 16.0625 -11.328125 19.921875 -12.34375 \nQ 23.78125 -13.375 27.78125 -13.375 \nQ 36.625 -13.375 41.015625 -8.765625 \nQ 45.40625 -4.15625 45.40625 5.171875 \nL 45.40625 9.625 \nQ 42.625 4.78125 38.28125 2.390625 \nQ 33.9375 0 27.875 0 \nQ 17.828125 0 11.671875 7.65625 \nQ 5.515625 15.328125 5.515625 27.984375 \nQ 5.515625 40.671875 11.671875 48.328125 \nQ 17.828125 56 27.875 56 \nQ 33.9375 56 38.28125 53.609375 \nQ 42.625 51.21875 45.40625 46.390625 \nL 45.40625 54.6875 \nL 54.390625 54.6875 \nz\n\" id=\"DejaVuSans-103\"/>\n      </defs>\n      <use xlink:href=\"#DejaVuSans-114\"/>\n      <use x=\"41.113281\" xlink:href=\"#DejaVuSans-97\"/>\n      <use x=\"102.392578\" xlink:href=\"#DejaVuSans-110\"/>\n      <use x=\"165.771484\" xlink:href=\"#DejaVuSans-107\"/>\n      <use x=\"223.681641\" xlink:href=\"#DejaVuSans-105\"/>\n      <use x=\"251.464844\" xlink:href=\"#DejaVuSans-110\"/>\n      <use x=\"314.84375\" xlink:href=\"#DejaVuSans-103\"/>\n     </g>\n    </g>\n   </g>\n   <g id=\"matplotlib.axis_2\">\n    <g id=\"ytick_1\">\n     <g id=\"line2d_7\">\n      <defs>\n       <path d=\"M 0 0 \nL -3.5 0 \n\" id=\"mcd401b5477\" style=\"stroke:#000000;stroke-width:0.8;\"/>\n      </defs>\n      <g>\n       <use style=\"stroke:#000000;stroke-width:0.8;\" x=\"40.603125\" xlink:href=\"#mcd401b5477\" y=\"224.64\"/>\n      </g>\n     </g>\n     <g id=\"text_8\">\n      <!-- 0 -->\n      <g transform=\"translate(27.240625 228.439219)scale(0.1 -0.1)\">\n       <use xlink:href=\"#DejaVuSans-48\"/>\n      </g>\n     </g>\n    </g>\n    <g id=\"ytick_2\">\n     <g id=\"line2d_8\">\n      <g>\n       <use style=\"stroke:#000000;stroke-width:0.8;\" x=\"40.603125\" xlink:href=\"#mcd401b5477\" y=\"186.290794\"/>\n      </g>\n     </g>\n     <g id=\"text_9\">\n      <!-- 5 -->\n      <g transform=\"translate(27.240625 190.090012)scale(0.1 -0.1)\">\n       <defs>\n        <path d=\"M 10.796875 72.90625 \nL 49.515625 72.90625 \nL 49.515625 64.59375 \nL 19.828125 64.59375 \nL 19.828125 46.734375 \nQ 21.96875 47.46875 24.109375 47.828125 \nQ 26.265625 48.1875 28.421875 48.1875 \nQ 40.625 48.1875 47.75 41.5 \nQ 54.890625 34.8125 54.890625 23.390625 \nQ 54.890625 11.625 47.5625 5.09375 \nQ 40.234375 -1.421875 26.90625 -1.421875 \nQ 22.3125 -1.421875 17.546875 -0.640625 \nQ 12.796875 0.140625 7.71875 1.703125 \nL 7.71875 11.625 \nQ 12.109375 9.234375 16.796875 8.0625 \nQ 21.484375 6.890625 26.703125 6.890625 \nQ 35.15625 6.890625 40.078125 11.328125 \nQ 45.015625 15.765625 45.015625 23.390625 \nQ 45.015625 31 40.078125 35.4375 \nQ 35.15625 39.890625 26.703125 39.890625 \nQ 22.75 39.890625 18.8125 39.015625 \nQ 14.890625 38.140625 10.796875 36.28125 \nz\n\" id=\"DejaVuSans-53\"/>\n       </defs>\n       <use xlink:href=\"#DejaVuSans-53\"/>\n      </g>\n     </g>\n    </g>\n    <g id=\"ytick_3\">\n     <g id=\"line2d_9\">\n      <g>\n       <use style=\"stroke:#000000;stroke-width:0.8;\" x=\"40.603125\" xlink:href=\"#mcd401b5477\" y=\"147.941587\"/>\n      </g>\n     </g>\n     <g id=\"text_10\">\n      <!-- 10 -->\n      <g transform=\"translate(20.878125 151.740806)scale(0.1 -0.1)\">\n       <use xlink:href=\"#DejaVuSans-49\"/>\n       <use x=\"63.623047\" xlink:href=\"#DejaVuSans-48\"/>\n      </g>\n     </g>\n    </g>\n    <g id=\"ytick_4\">\n     <g id=\"line2d_10\">\n      <g>\n       <use style=\"stroke:#000000;stroke-width:0.8;\" x=\"40.603125\" xlink:href=\"#mcd401b5477\" y=\"109.592381\"/>\n      </g>\n     </g>\n     <g id=\"text_11\">\n      <!-- 15 -->\n      <g transform=\"translate(20.878125 113.3916)scale(0.1 -0.1)\">\n       <use xlink:href=\"#DejaVuSans-49\"/>\n       <use x=\"63.623047\" xlink:href=\"#DejaVuSans-53\"/>\n      </g>\n     </g>\n    </g>\n    <g id=\"ytick_5\">\n     <g id=\"line2d_11\">\n      <g>\n       <use style=\"stroke:#000000;stroke-width:0.8;\" x=\"40.603125\" xlink:href=\"#mcd401b5477\" y=\"71.243175\"/>\n      </g>\n     </g>\n     <g id=\"text_12\">\n      <!-- 20 -->\n      <g transform=\"translate(20.878125 75.042393)scale(0.1 -0.1)\">\n       <use xlink:href=\"#DejaVuSans-50\"/>\n       <use x=\"63.623047\" xlink:href=\"#DejaVuSans-48\"/>\n      </g>\n     </g>\n    </g>\n    <g id=\"ytick_6\">\n     <g id=\"line2d_12\">\n      <g>\n       <use style=\"stroke:#000000;stroke-width:0.8;\" x=\"40.603125\" xlink:href=\"#mcd401b5477\" y=\"32.893968\"/>\n      </g>\n     </g>\n     <g id=\"text_13\">\n      <!-- 25 -->\n      <g transform=\"translate(20.878125 36.693187)scale(0.1 -0.1)\">\n       <use xlink:href=\"#DejaVuSans-50\"/>\n       <use x=\"63.623047\" xlink:href=\"#DejaVuSans-53\"/>\n      </g>\n     </g>\n    </g>\n    <g id=\"text_14\">\n     <!-- count -->\n     <g transform=\"translate(14.798438 130.02625)rotate(-90)scale(0.1 -0.1)\">\n      <defs>\n       <path d=\"M 48.78125 52.59375 \nL 48.78125 44.1875 \nQ 44.96875 46.296875 41.140625 47.34375 \nQ 37.3125 48.390625 33.40625 48.390625 \nQ 24.65625 48.390625 19.8125 42.84375 \nQ 14.984375 37.3125 14.984375 27.296875 \nQ 14.984375 17.28125 19.8125 11.734375 \nQ 24.65625 6.203125 33.40625 6.203125 \nQ 37.3125 6.203125 41.140625 7.25 \nQ 44.96875 8.296875 48.78125 10.40625 \nL 48.78125 2.09375 \nQ 45.015625 0.34375 40.984375 -0.53125 \nQ 36.96875 -1.421875 32.421875 -1.421875 \nQ 20.0625 -1.421875 12.78125 6.34375 \nQ 5.515625 14.109375 5.515625 27.296875 \nQ 5.515625 40.671875 12.859375 48.328125 \nQ 20.21875 56 33.015625 56 \nQ 37.15625 56 41.109375 55.140625 \nQ 45.0625 54.296875 48.78125 52.59375 \nz\n\" id=\"DejaVuSans-99\"/>\n       <path d=\"M 30.609375 48.390625 \nQ 23.390625 48.390625 19.1875 42.75 \nQ 14.984375 37.109375 14.984375 27.296875 \nQ 14.984375 17.484375 19.15625 11.84375 \nQ 23.34375 6.203125 30.609375 6.203125 \nQ 37.796875 6.203125 41.984375 11.859375 \nQ 46.1875 17.53125 46.1875 27.296875 \nQ 46.1875 37.015625 41.984375 42.703125 \nQ 37.796875 48.390625 30.609375 48.390625 \nz\nM 30.609375 56 \nQ 42.328125 56 49.015625 48.375 \nQ 55.71875 40.765625 55.71875 27.296875 \nQ 55.71875 13.875 49.015625 6.21875 \nQ 42.328125 -1.421875 30.609375 -1.421875 \nQ 18.84375 -1.421875 12.171875 6.21875 \nQ 5.515625 13.875 5.515625 27.296875 \nQ 5.515625 40.765625 12.171875 48.375 \nQ 18.84375 56 30.609375 56 \nz\n\" id=\"DejaVuSans-111\"/>\n       <path d=\"M 8.5 21.578125 \nL 8.5 54.6875 \nL 17.484375 54.6875 \nL 17.484375 21.921875 \nQ 17.484375 14.15625 20.5 10.265625 \nQ 23.53125 6.390625 29.59375 6.390625 \nQ 36.859375 6.390625 41.078125 11.03125 \nQ 45.3125 15.671875 45.3125 23.6875 \nL 45.3125 54.6875 \nL 54.296875 54.6875 \nL 54.296875 0 \nL 45.3125 0 \nL 45.3125 8.40625 \nQ 42.046875 3.421875 37.71875 1 \nQ 33.40625 -1.421875 27.6875 -1.421875 \nQ 18.265625 -1.421875 13.375 4.4375 \nQ 8.5 10.296875 8.5 21.578125 \nz\nM 31.109375 56 \nz\n\" id=\"DejaVuSans-117\"/>\n       <path d=\"M 18.3125 70.21875 \nL 18.3125 54.6875 \nL 36.8125 54.6875 \nL 36.8125 47.703125 \nL 18.3125 47.703125 \nL 18.3125 18.015625 \nQ 18.3125 11.328125 20.140625 9.421875 \nQ 21.96875 7.515625 27.59375 7.515625 \nL 36.8125 7.515625 \nL 36.8125 0 \nL 27.59375 0 \nQ 17.1875 0 13.234375 3.875 \nQ 9.28125 7.765625 9.28125 18.015625 \nL 9.28125 47.703125 \nL 2.6875 47.703125 \nL 2.6875 54.6875 \nL 9.28125 54.6875 \nL 9.28125 70.21875 \nz\n\" id=\"DejaVuSans-116\"/>\n      </defs>\n      <use xlink:href=\"#DejaVuSans-99\"/>\n      <use x=\"54.980469\" xlink:href=\"#DejaVuSans-111\"/>\n      <use x=\"116.162109\" xlink:href=\"#DejaVuSans-117\"/>\n      <use x=\"179.541016\" xlink:href=\"#DejaVuSans-110\"/>\n      <use x=\"242.919922\" xlink:href=\"#DejaVuSans-116\"/>\n     </g>\n    </g>\n   </g>\n   <g id=\"patch_63\">\n    <path d=\"M 40.603125 224.64 \nL 40.603125 7.2 \n\" style=\"fill:none;stroke:#000000;stroke-linecap:square;stroke-linejoin:miter;stroke-width:0.8;\"/>\n   </g>\n   <g id=\"patch_64\">\n    <path d=\"M 375.403125 224.64 \nL 375.403125 7.2 \n\" style=\"fill:none;stroke:#000000;stroke-linecap:square;stroke-linejoin:miter;stroke-width:0.8;\"/>\n   </g>\n   <g id=\"patch_65\">\n    <path d=\"M 40.603125 224.64 \nL 375.403125 224.64 \n\" style=\"fill:none;stroke:#000000;stroke-linecap:square;stroke-linejoin:miter;stroke-width:0.8;\"/>\n   </g>\n   <g id=\"patch_66\">\n    <path d=\"M 40.603125 7.2 \nL 375.403125 7.2 \n\" style=\"fill:none;stroke:#000000;stroke-linecap:square;stroke-linejoin:miter;stroke-width:0.8;\"/>\n   </g>\n   <g id=\"legend_1\">\n    <g id=\"patch_67\">\n     <path d=\"M 168.532812 44.55625 \nL 247.473437 44.55625 \nQ 249.473437 44.55625 249.473437 42.55625 \nL 249.473437 14.2 \nQ 249.473437 12.2 247.473437 12.2 \nL 168.532812 12.2 \nQ 166.532812 12.2 166.532812 14.2 \nL 166.532812 42.55625 \nQ 166.532812 44.55625 168.532812 44.55625 \nz\n\" style=\"fill:#ffffff;opacity:0.8;stroke:#cccccc;stroke-linejoin:miter;\"/>\n    </g>\n    <g id=\"patch_68\">\n     <path d=\"M 170.532812 23.798437 \nL 190.532812 23.798437 \nL 190.532812 16.798437 \nL 170.532812 16.798437 \nz\n\" style=\"fill:#008000;opacity:0.5;\"/>\n    </g>\n    <g id=\"text_15\">\n     <!-- True -->\n     <g transform=\"translate(198.532812 23.798437)scale(0.1 -0.1)\">\n      <defs>\n       <path d=\"M -0.296875 72.90625 \nL 61.375 72.90625 \nL 61.375 64.59375 \nL 35.5 64.59375 \nL 35.5 0 \nL 25.59375 0 \nL 25.59375 64.59375 \nL -0.296875 64.59375 \nz\n\" id=\"DejaVuSans-84\"/>\n       <path d=\"M 56.203125 29.59375 \nL 56.203125 25.203125 \nL 14.890625 25.203125 \nQ 15.484375 15.921875 20.484375 11.0625 \nQ 25.484375 6.203125 34.421875 6.203125 \nQ 39.59375 6.203125 44.453125 7.46875 \nQ 49.3125 8.734375 54.109375 11.28125 \nL 54.109375 2.78125 \nQ 49.265625 0.734375 44.1875 -0.34375 \nQ 39.109375 -1.421875 33.890625 -1.421875 \nQ 20.796875 -1.421875 13.15625 6.1875 \nQ 5.515625 13.8125 5.515625 26.8125 \nQ 5.515625 40.234375 12.765625 48.109375 \nQ 20.015625 56 32.328125 56 \nQ 43.359375 56 49.78125 48.890625 \nQ 56.203125 41.796875 56.203125 29.59375 \nz\nM 47.21875 32.234375 \nQ 47.125 39.59375 43.09375 43.984375 \nQ 39.0625 48.390625 32.421875 48.390625 \nQ 24.90625 48.390625 20.390625 44.140625 \nQ 15.875 39.890625 15.1875 32.171875 \nz\n\" id=\"DejaVuSans-101\"/>\n      </defs>\n      <use xlink:href=\"#DejaVuSans-84\"/>\n      <use x=\"46.333984\" xlink:href=\"#DejaVuSans-114\"/>\n      <use x=\"87.447266\" xlink:href=\"#DejaVuSans-117\"/>\n      <use x=\"150.826172\" xlink:href=\"#DejaVuSans-101\"/>\n     </g>\n    </g>\n    <g id=\"patch_69\">\n     <path d=\"M 170.532812 38.476562 \nL 190.532812 38.476562 \nL 190.532812 31.476562 \nL 170.532812 31.476562 \nz\n\" style=\"fill:#0000ff;opacity:0.5;\"/>\n    </g>\n    <g id=\"text_16\">\n     <!-- Predicted -->\n     <g transform=\"translate(198.532812 38.476562)scale(0.1 -0.1)\">\n      <defs>\n       <path d=\"M 19.671875 64.796875 \nL 19.671875 37.40625 \nL 32.078125 37.40625 \nQ 38.96875 37.40625 42.71875 40.96875 \nQ 46.484375 44.53125 46.484375 51.125 \nQ 46.484375 57.671875 42.71875 61.234375 \nQ 38.96875 64.796875 32.078125 64.796875 \nz\nM 9.8125 72.90625 \nL 32.078125 72.90625 \nQ 44.34375 72.90625 50.609375 67.359375 \nQ 56.890625 61.8125 56.890625 51.125 \nQ 56.890625 40.328125 50.609375 34.8125 \nQ 44.34375 29.296875 32.078125 29.296875 \nL 19.671875 29.296875 \nL 19.671875 0 \nL 9.8125 0 \nz\n\" id=\"DejaVuSans-80\"/>\n       <path d=\"M 45.40625 46.390625 \nL 45.40625 75.984375 \nL 54.390625 75.984375 \nL 54.390625 0 \nL 45.40625 0 \nL 45.40625 8.203125 \nQ 42.578125 3.328125 38.25 0.953125 \nQ 33.9375 -1.421875 27.875 -1.421875 \nQ 17.96875 -1.421875 11.734375 6.484375 \nQ 5.515625 14.40625 5.515625 27.296875 \nQ 5.515625 40.1875 11.734375 48.09375 \nQ 17.96875 56 27.875 56 \nQ 33.9375 56 38.25 53.625 \nQ 42.578125 51.265625 45.40625 46.390625 \nz\nM 14.796875 27.296875 \nQ 14.796875 17.390625 18.875 11.75 \nQ 22.953125 6.109375 30.078125 6.109375 \nQ 37.203125 6.109375 41.296875 11.75 \nQ 45.40625 17.390625 45.40625 27.296875 \nQ 45.40625 37.203125 41.296875 42.84375 \nQ 37.203125 48.484375 30.078125 48.484375 \nQ 22.953125 48.484375 18.875 42.84375 \nQ 14.796875 37.203125 14.796875 27.296875 \nz\n\" id=\"DejaVuSans-100\"/>\n      </defs>\n      <use xlink:href=\"#DejaVuSans-80\"/>\n      <use x=\"58.552734\" xlink:href=\"#DejaVuSans-114\"/>\n      <use x=\"97.416016\" xlink:href=\"#DejaVuSans-101\"/>\n      <use x=\"158.939453\" xlink:href=\"#DejaVuSans-100\"/>\n      <use x=\"222.416016\" xlink:href=\"#DejaVuSans-105\"/>\n      <use x=\"250.199219\" xlink:href=\"#DejaVuSans-99\"/>\n      <use x=\"305.179688\" xlink:href=\"#DejaVuSans-116\"/>\n      <use x=\"344.388672\" xlink:href=\"#DejaVuSans-101\"/>\n      <use x=\"405.912109\" xlink:href=\"#DejaVuSans-100\"/>\n     </g>\n    </g>\n   </g>\n  </g>\n </g>\n <defs>\n  <clipPath id=\"p80c83b0d3a\">\n   <rect height=\"217.44\" width=\"334.8\" x=\"40.603125\" y=\"7.2\"/>\n  </clipPath>\n </defs>\n</svg>\n",
      "image/png": "[encoded data removed]"
     },
     "metadata": {
      "needs_background": "light"
     }
    }
   ],
   "source": [
    "h_true = plt.hist(y_true, bins=30, facecolor=\"green\", alpha=0.5)\n",
    "h_pred = plt.hist(y_pred, bins=30, facecolor=\"blue\", alpha=0.5)\n",
    "plt.xlabel(\"ranking\")\n",
    "plt.ylabel(\"count\")\n",
    "plt.legend((\"True\", \"Predicted\"))\n",
    "plt.show()"
   ]
  },
  {
   "cell_type": "code",
   "execution_count": null,
   "metadata": {},
   "outputs": [],
   "source": []
  }
 ]
}